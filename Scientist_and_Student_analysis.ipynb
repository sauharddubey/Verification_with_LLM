{
 "cells": [
  {
   "cell_type": "markdown",
   "source": [
    "\n",
    "### Evaluation of Large Language Models as a Data Validation Tool \n",
    "\n",
    "This notebook is designed to extract, transform, and compare data from WikiData and DBPedia about scientists and their doctoral students. The main objective is to identify inconsistencies between these two data sources and utilise the results generated through LLMs to validate the inconsistencies \n",
    "\n"
   ],
   "metadata": {
    "collapsed": false
   },
   "id": "8628f284d421360f"
  },
  {
   "cell_type": "markdown",
   "source": [
    "#### Initialization\n",
    "The first cell sets up the required packages and initializes a Spark session."
   ],
   "metadata": {
    "collapsed": false
   },
   "id": "d0785ec1f4ac142f"
  },
  {
   "cell_type": "code",
   "execution_count": null,
   "id": "initial_id",
   "metadata": {
    "collapsed": true
   },
   "outputs": [],
   "source": [
    "from SPARQLWrapper import SPARQLWrapper, JSON\n",
    "from pyspark.sql import SparkSession\n",
    "from pyspark.sql.types import StructType, StructField, StringType\n",
    "from pyspark.sql.functions import udf\n",
    "from pyspark.sql.functions import concat\n",
    "from pyspark.sql.functions import col\n",
    "import pandas as pd\n",
    "spark = SparkSession.builder \\\n",
    "    .appName(\"Wikidata_and_DBpedia_Queries\") \\\n",
    "    .getOrCreate()"
   ]
  },
  {
   "cell_type": "markdown",
   "source": [
    "#### Helper Functions\n",
    "\n",
    "1. **`get_redirected_url`**: This function ensures that the URLs are in a consistent format, particularly for Wikipedia links."
   ],
   "metadata": {
    "collapsed": false
   },
   "id": "d8113d2d5c0566f6"
  },
  {
   "cell_type": "code",
   "outputs": [],
   "source": [
    "def get_redirected_url(url):\n",
    "    if url is None:\n",
    "        return url\n",
    "    try:\n",
    "        #response = requests.get(url, allow_redirects=True)\n",
    "        final_url = url\n",
    "\n",
    "        if \"/wiki/\" in final_url:\n",
    "            final_url = final_url.split(\"/wiki/\")[-1]\n",
    "            return \"/wiki/\" + final_url\n",
    "        return final_url\n",
    "    except Exception as e:\n",
    "        print(f\"error:{e}\")\n",
    "        return url \n",
    "\n",
    "get_redirected_url_udf = udf(get_redirected_url, StringType())"
   ],
   "metadata": {
    "collapsed": false,
    "ExecuteTime": {
     "end_time": "2024-07-07T23:02:09.933161Z",
     "start_time": "2024-07-07T23:02:08.936748Z"
    }
   },
   "id": "f55de3ed2aa41001",
   "execution_count": 4
  },
  {
   "cell_type": "markdown",
   "source": [
    "2. **`execute_sparql_query`**: Executes a SPARQL query and returns the results as a pandas DataFrame."
   ],
   "metadata": {
    "collapsed": false
   },
   "id": "e8553c8044de83bb"
  },
  {
   "cell_type": "code",
   "outputs": [],
   "source": [
    "def execute_sparql_query(endpoint_url, query):\n",
    "    sparql = SPARQLWrapper(endpoint_url)\n",
    "    sparql.setQuery(query)\n",
    "    sparql.setReturnFormat(JSON)\n",
    "    results = sparql.query().convert()\n",
    "    data = []\n",
    "    for result in results[\"results\"][\"bindings\"]:\n",
    "        row = {field: result[field]['value'] for field in results['head']['vars']}\n",
    "        data.append(row)\n",
    "    return pd.DataFrame(data)\n"
   ],
   "metadata": {
    "collapsed": false,
    "ExecuteTime": {
     "end_time": "2024-07-07T23:02:09.944023Z",
     "start_time": "2024-07-07T23:02:09.937326Z"
    }
   },
   "id": "b19d5182b0eb85da",
   "execution_count": 5
  },
  {
   "cell_type": "markdown",
   "source": [
    "3. **`rename_columns`**: Adds a prefix to each column name in a DataFrame."
   ],
   "metadata": {
    "collapsed": false
   },
   "id": "18cd84ee51de7b55"
  },
  {
   "cell_type": "code",
   "outputs": [],
   "source": [
    "def rename_columns(df, prefix):\n",
    "    for column in df.columns:\n",
    "        df = df.withColumnRenamed(column, f\"{prefix}{column}\")\n",
    "    return df\n"
   ],
   "metadata": {
    "collapsed": false,
    "ExecuteTime": {
     "end_time": "2024-07-07T23:02:09.954307Z",
     "start_time": "2024-07-07T23:02:09.942757Z"
    }
   },
   "id": "ac1bca436f42c727",
   "execution_count": 6
  },
  {
   "cell_type": "markdown",
   "source": [
    "4. **`extract_name_from_link`**: Extracts and formats a name from a Wikipedia link."
   ],
   "metadata": {
    "collapsed": false
   },
   "id": "fc6e162a7e4886d8"
  },
  {
   "cell_type": "code",
   "outputs": [],
   "source": [
    "def extract_name_from_link(wiki_link):\n",
    "    if wiki_link and \"/wiki/\" in wiki_link:\n",
    "        name_part = wiki_link.split(\"/wiki/\")[-1]  # Extract the part after /wiki/\n",
    "        formatted_name = name_part.replace('_', ' ').title()  # Replace underscores with spaces and title case\n",
    "        return formatted_name\n",
    "    return None"
   ],
   "metadata": {
    "collapsed": false,
    "ExecuteTime": {
     "end_time": "2024-07-07T23:02:09.955013Z",
     "start_time": "2024-07-07T23:02:09.949750Z"
    }
   },
   "id": "2f5e385bcee3b77c",
   "execution_count": 7
  },
  {
   "cell_type": "markdown",
   "source": [
    "5. **`prompt_generator`**: Generates a formatted string from a Spark DataFrame to be used as a prompt."
   ],
   "metadata": {
    "collapsed": false
   },
   "id": "f266644d97c1565"
  },
  {
   "cell_type": "code",
   "outputs": [],
   "source": [
    "def prompt_generator(spark_df):\n",
    "    \"\"\"\n",
    "    Generate a formatted string from a Spark DataFrame consisting of Wikipedia links to scientists and their doctoral students.\n",
    "\n",
    "    Parameters:\n",
    "    spark_df (pyspark.sql.DataFrame): Spark DataFrame with columns 'wikidata_scientistWikipediaLink' and 'wikidata_doctoralStudentWikipediaLink'.\n",
    "\n",
    "    Returns:\n",
    "    str: A single string containing all the formatted questions.\n",
    "    \"\"\"\n",
    "    pandas_df = spark_df.toPandas()\n",
    "    entities = []\n",
    "    \n",
    "    for index, row in pandas_df.iterrows():\n",
    "        scientist_name = extract_name_from_link(row['wikidata_scientistWikipediaLink'])\n",
    "        student_name = extract_name_from_link(row['wikidata_doctoralStudentWikipediaLink'])\n",
    "        \n",
    "        if scientist_name and student_name:\n",
    "            question = f\"<question>Is {student_name} a student of {scientist_name}?</question>\"\n",
    "            entity = \"<entity>\"+question+\"<answer></answer>\"+\"</entity>\"\n",
    "            entities.append(entity)\n",
    "    \n",
    "    return '\\n'.join(entities)"
   ],
   "metadata": {
    "collapsed": false,
    "ExecuteTime": {
     "end_time": "2024-07-07T23:02:09.974245Z",
     "start_time": "2024-07-07T23:02:09.954025Z"
    }
   },
   "id": "e50b311d6d242bb9",
   "execution_count": 8
  },
  {
   "cell_type": "markdown",
   "source": [
    "#### Queries to extract data from DBpedia and Wikidata\n",
    "\n",
    "Both the queries extract scientists and their doctoral students who have an english wikipedia page from Wikidata and DBpedia respectively"
   ],
   "metadata": {
    "collapsed": false
   },
   "id": "f6248c2315007062"
  },
  {
   "cell_type": "code",
   "outputs": [],
   "source": [
    "wikidata_query = \"\"\"\n",
    "SELECT Distinct ?scientist ?scientistWikipediaLink ?doctoralStudent ?doctoralStudentWikipediaLink WHERE {\n",
    "  ?scientist wdt:P31 wd:Q5;        # Instance of human\n",
    "             wdt:P106 ?occupation; # Occupation: scientist, physicist, chemist, mathematician\n",
    "             wdt:P185 ?doctoralStudent.  # Must have a doctoral student\n",
    "\n",
    "  VALUES ?occupation {wd:Q901 wd:Q169470 wd:Q593644 wd:Q170790}  # Occupations include scientist, physicist, chemist, mathematician\n",
    "\n",
    "  # Get the English Wikipedia link for the scientist\n",
    "  ?scientistWikipediaLink schema:about ?scientist;\n",
    "                          schema:inLanguage \"en\";\n",
    "                          schema:isPartOf <https://en.wikipedia.org/>.\n",
    "\n",
    "  \n",
    "\n",
    "  # Get the English Wikipedia link for the doctoral student\n",
    "  ?doctoralStudentWikipediaLink schema:about ?doctoralStudent;\n",
    "                                    schema:inLanguage \"en\";\n",
    "                                    schema:isPartOf <https://en.wikipedia.org/>.\n",
    "\n",
    "  SERVICE wikibase:label { bd:serviceParam wikibase:language \"[AUTO_LANGUAGE],en\". }\n",
    "}\n",
    "ORDER BY ?scientistWikipediaLink\n",
    "\"\"\"\n",
    "dbpedia_query = \"\"\"\n",
    "PREFIX dbo: <http://dbpedia.org/ontology/>\n",
    "PREFIX dbr: <http://dbpedia.org/resource/>\n",
    "PREFIX rdfs: <http://www.w3.org/2000/01/rdf-schema#>\n",
    "PREFIX dct: <http://purl.org/dc/terms/>\n",
    "PREFIX foaf: <http://xmlns.com/foaf/0.1/>\n",
    "\n",
    "SELECT DISTINCT ?scientist  ?scientistLink ?doctoralStudent  ?doctoralStudentLink WHERE {\n",
    "  ?scientist a dbo:Scientist;                     # Instance of Scientist\n",
    "             dbo:doctoralStudent ?doctoralStudent.  # Has a doctoral student\n",
    "  \n",
    "  ?scientist foaf:isPrimaryTopicOf ?scientistLink.\n",
    "  ?doctoralStudent foaf:isPrimaryTopicOf ?doctoralStudentLink.\n",
    "}\n",
    "ORDER BY ?scientist\n",
    "\n",
    "\"\"\"\n"
   ],
   "metadata": {
    "collapsed": false,
    "ExecuteTime": {
     "end_time": "2024-07-07T23:02:09.974881Z",
     "start_time": "2024-07-07T23:02:09.962437Z"
    }
   },
   "id": "aa4cabbc4c028690",
   "execution_count": 9
  },
  {
   "cell_type": "markdown",
   "source": [
    "#### Data Retrieval and Preparation\n",
    "\n",
    "1. **Executing Queries**:"
   ],
   "metadata": {
    "collapsed": false
   },
   "id": "b61033dc62bb8eab"
  },
  {
   "cell_type": "code",
   "outputs": [],
   "source": [
    "wikidata_df = execute_sparql_query(\"https://query.wikidata.org/sparql\", wikidata_query)\n",
    "dbpedia_df = execute_sparql_query(\"https://dbpedia.org/sparql\", dbpedia_query)\n",
    "wikidata_sdf = spark.createDataFrame(wikidata_df)\n",
    "dbpedia_sdf = spark.createDataFrame(dbpedia_df)"
   ],
   "metadata": {
    "collapsed": false
   },
   "id": "97b4d201e45cf293",
   "execution_count": null
  },
  {
   "cell_type": "markdown",
   "source": [
    "2. **Renaming Columns**:"
   ],
   "metadata": {
    "collapsed": false
   },
   "id": "643be52d1393cb88"
  },
  {
   "cell_type": "code",
   "outputs": [],
   "source": [
    "wikidata_df = rename_columns(wikidata_sdf, \"wikidata_\")\n",
    "dbpedia_df = rename_columns(dbpedia_sdf, \"dbpedia_\")"
   ],
   "metadata": {
    "collapsed": false,
    "ExecuteTime": {
     "end_time": "2024-07-07T23:02:26.476610Z",
     "start_time": "2024-07-07T23:02:26.181671Z"
    }
   },
   "id": "2034ec51aee1d5af",
   "execution_count": 11
  },
  {
   "cell_type": "markdown",
   "source": [
    "3. **Cleaning URLs**:"
   ],
   "metadata": {
    "collapsed": false
   },
   "id": "3d24151b61863ed2"
  },
  {
   "cell_type": "code",
   "outputs": [],
   "source": [
    "wikidata_df = wikidata_df.withColumn(\"wikidata_scientistWikipediaLink\", get_redirected_url_udf(\"wikidata_scientistWikipediaLink\"))\n",
    "wikidata_df = wikidata_df.withColumn(\"wikidata_doctoralStudentWikipediaLink\", get_redirected_url_udf(\"wikidata_doctoralStudentWikipediaLink\"))\n",
    "dbpedia_df = dbpedia_df.withColumn(\"dbpedia_scientistLink\", get_redirected_url_udf(\"dbpedia_scientistLink\"))\n",
    "dbpedia_df = dbpedia_df.withColumn(\"dbpedia_doctoralStudentLink\", get_redirected_url_udf(\"dbpedia_doctoralStudentLink\"))"
   ],
   "metadata": {
    "collapsed": false,
    "ExecuteTime": {
     "end_time": "2024-07-07T23:02:26.701474Z",
     "start_time": "2024-07-07T23:02:26.480875Z"
    }
   },
   "id": "2e62800a764c5a43",
   "execution_count": 12
  },
  {
   "cell_type": "markdown",
   "source": [
    "4. **Creating Foreign Keys**:"
   ],
   "metadata": {
    "collapsed": false
   },
   "id": "bb31a15c27a2cb5b"
  },
  {
   "cell_type": "code",
   "outputs": [],
   "source": [
    "wikidata_df = wikidata_df.withColumn(\"wikidata_fk\", concat(\"wikidata_scientistWikipediaLink\", \"wikidata_doctoralStudentWikipediaLink\"))\n",
    "dbpedia_df = dbpedia_df.withColumn(\"dbpedia_fk\", concat(\"dbpedia_scientistLink\", \"dbpedia_doctoralStudentLink\"))"
   ],
   "metadata": {
    "collapsed": false,
    "ExecuteTime": {
     "end_time": "2024-07-07T23:02:26.793802Z",
     "start_time": "2024-07-07T23:02:26.703258Z"
    }
   },
   "id": "216317f35a8a06a0",
   "execution_count": 13
  },
  {
   "cell_type": "markdown",
   "source": [
    "#### Data Analysis\n",
    "\n",
    "1. **Displaying Entries Count**:"
   ],
   "metadata": {
    "collapsed": false
   },
   "id": "49b00207aa05edd0"
  },
  {
   "cell_type": "code",
   "outputs": [
    {
     "name": "stderr",
     "output_type": "stream",
     "text": [
      "                                                                                \r"
     ]
    },
    {
     "name": "stdout",
     "output_type": "stream",
     "text": [
      "Entries in WikiData: 11243\n",
      "Entries in DBPedia: 8646\n"
     ]
    },
    {
     "name": "stderr",
     "output_type": "stream",
     "text": [
      "                                                                                \r"
     ]
    },
    {
     "name": "stdout",
     "output_type": "stream",
     "text": [
      "+--------------------+---------------------+-----------------------+---------------------------+--------------------+\n",
      "|   dbpedia_scientist|dbpedia_scientistLink|dbpedia_doctoralStudent|dbpedia_doctoralStudentLink|          dbpedia_fk|\n",
      "+--------------------+---------------------+-----------------------+---------------------------+--------------------+\n",
      "|http://dbpedia.or...| /wiki/A._P._Balac...|   http://dbpedia.or...|        /wiki/Pierre_Ramond|/wiki/A._P._Balac...|\n",
      "|http://dbpedia.or...| /wiki/A._Ronald_G...|   http://dbpedia.or...|       /wiki/Víctor_Agui...|/wiki/A._Ronald_G...|\n",
      "|http://dbpedia.or...| /wiki/A._W._F._Ed...|   http://dbpedia.or...|       /wiki/Elizabeth_A...|/wiki/A._W._F._Ed...|\n",
      "|http://dbpedia.or...| /wiki/Aaron_John_...|   http://dbpedia.or...|       /wiki/Allen_C._Sk...|/wiki/Aaron_John_...|\n",
      "|http://dbpedia.or...| /wiki/Aaron_John_...|   http://dbpedia.or...|       /wiki/Daniel_H._N...|/wiki/Aaron_John_...|\n",
      "|http://dbpedia.or...|    /wiki/Abdus_Salam|   http://dbpedia.or...|       /wiki/Ali_Chamsed...|/wiki/Abdus_Salam...|\n",
      "|http://dbpedia.or...|    /wiki/Abdus_Salam|   http://dbpedia.or...|       /wiki/John_Polkin...|/wiki/Abdus_Salam...|\n",
      "|http://dbpedia.or...|    /wiki/Abdus_Salam|   http://dbpedia.or...|       /wiki/Peter_West_...|/wiki/Abdus_Salam...|\n",
      "|http://dbpedia.or...|    /wiki/Abdus_Salam|   http://dbpedia.or...|       /wiki/Riazuddin_(...|/wiki/Abdus_Salam...|\n",
      "|http://dbpedia.or...|    /wiki/Abdus_Salam|   http://dbpedia.or...|         /wiki/Qaisar_Shafi|/wiki/Abdus_Salam...|\n",
      "|http://dbpedia.or...|    /wiki/Abdus_Salam|   http://dbpedia.or...|       /wiki/Christopher...|/wiki/Abdus_Salam...|\n",
      "|http://dbpedia.or...|    /wiki/Abdus_Salam|   http://dbpedia.or...|       /wiki/Ghulam_Murt...|/wiki/Abdus_Salam...|\n",
      "|http://dbpedia.or...|    /wiki/Abdus_Salam|   http://dbpedia.or...|        /wiki/Yuval_Ne'eman|/wiki/Abdus_Salam...|\n",
      "|http://dbpedia.or...|    /wiki/Abdus_Salam|   http://dbpedia.or...|          /wiki/Masud_Ahmad|/wiki/Abdus_Salam...|\n",
      "|http://dbpedia.or...|    /wiki/Abdus_Salam|   http://dbpedia.or...|       /wiki/Walter_Gilbert|/wiki/Abdus_Salam...|\n",
      "|http://dbpedia.or...|    /wiki/Abdus_Salam|   http://dbpedia.or...|       /wiki/Daniel_Afed...|/wiki/Abdus_Salam...|\n",
      "|http://dbpedia.or...|    /wiki/Abdus_Salam|   http://dbpedia.or...|          /wiki/Fayyazuddin|/wiki/Abdus_Salam...|\n",
      "|http://dbpedia.or...|    /wiki/Abdus_Salam|   http://dbpedia.or...|         /wiki/Partha_Ghose|/wiki/Abdus_Salam...|\n",
      "|http://dbpedia.or...|    /wiki/Abdus_Salam|   http://dbpedia.or...|       /wiki/Robert_Delb...|/wiki/Abdus_Salam...|\n",
      "|http://dbpedia.or...|    /wiki/Abdus_Salam|   http://dbpedia.or...|       /wiki/John_Clayto...|/wiki/Abdus_Salam...|\n",
      "+--------------------+---------------------+-----------------------+---------------------------+--------------------+\n"
     ]
    }
   ],
   "source": [
    "print(\"Entries in WikiData: \"+str(wikidata_df.count()))\n",
    "print(\"Entries in DBPedia: \"+str(dbpedia_df.count()))\n",
    "dbpedia_df.show()"
   ],
   "metadata": {
    "collapsed": false,
    "ExecuteTime": {
     "end_time": "2024-07-07T23:02:38.094225Z",
     "start_time": "2024-07-07T23:02:26.795558Z"
    }
   },
   "id": "f7112d4a0776e467",
   "execution_count": 14
  },
  {
   "cell_type": "markdown",
   "source": [
    "2. **Combining Data**:"
   ],
   "metadata": {
    "collapsed": false
   },
   "id": "7eabbc110971a2eb"
  },
  {
   "cell_type": "code",
   "outputs": [
    {
     "name": "stderr",
     "output_type": "stream",
     "text": [
      "                                                                                \r"
     ]
    }
   ],
   "source": [
    "combined_df = wikidata_df.join(dbpedia_df, wikidata_df.wikidata_fk == dbpedia_df.dbpedia_fk, \"full_outer\").distinct()\n",
    "output_path = \"Combined_Knowledgebase_entries.csv\"\n",
    "combined_df.write.csv(output_path, header=True, mode=\"overwrite\")\n",
    "consistant_df = combined_df.filter(col(\"dbpedia_fk\").isNotNull() & col(\"wikidata_fk\").isNotNull())\n",
    "inconsistent_dbpedia_df = combined_df.filter(col(\"dbpedia_fk\").isNull())\n",
    "inconsistent_wikidata_df = combined_df.filter(col(\"wikidata_fk\").isNull())"
   ],
   "metadata": {
    "collapsed": false,
    "ExecuteTime": {
     "end_time": "2024-07-07T23:02:53.476060Z",
     "start_time": "2024-07-07T23:02:38.094198Z"
    }
   },
   "id": "b98a06a95df2e27a",
   "execution_count": 15
  },
  {
   "cell_type": "markdown",
   "source": [
    "3. **Displaying Inconsistencies**:"
   ],
   "metadata": {
    "collapsed": false
   },
   "id": "6ffad86b816a299f"
  },
  {
   "cell_type": "code",
   "outputs": [
    {
     "name": "stderr",
     "output_type": "stream",
     "text": [
      "                                                                                \r"
     ]
    },
    {
     "name": "stdout",
     "output_type": "stream",
     "text": [
      "Missing in DBPedia: 7445\n"
     ]
    },
    {
     "name": "stderr",
     "output_type": "stream",
     "text": [
      "                                                                                \r"
     ]
    },
    {
     "name": "stdout",
     "output_type": "stream",
     "text": [
      "Missing in WikiData : 4848\n"
     ]
    },
    {
     "name": "stderr",
     "output_type": "stream",
     "text": [
      "                                                                                \r"
     ]
    },
    {
     "name": "stdout",
     "output_type": "stream",
     "text": [
      "Consistent Data: 3798\n"
     ]
    },
    {
     "name": "stderr",
     "output_type": "stream",
     "text": [
      "                                                                                \r"
     ]
    },
    {
     "name": "stdout",
     "output_type": "stream",
     "text": [
      "+--------------------+-------------------------------+------------------------+-------------------------------------+--------------------+--------------------+---------------------+-----------------------+---------------------------+--------------------+\n",
      "|  wikidata_scientist|wikidata_scientistWikipediaLink|wikidata_doctoralStudent|wikidata_doctoralStudentWikipediaLink|         wikidata_fk|   dbpedia_scientist|dbpedia_scientistLink|dbpedia_doctoralStudent|dbpedia_doctoralStudentLink|          dbpedia_fk|\n",
      "+--------------------+-------------------------------+------------------------+-------------------------------------+--------------------+--------------------+---------------------+-----------------------+---------------------------+--------------------+\n",
      "|http://www.wikida...|           /wiki/Andreas_von...|    http://www.wikida...|                     /wiki/Ernst_Mach|/wiki/Andreas_von...|http://dbpedia.or...| /wiki/Andreas_von...|   http://dbpedia.or...|           /wiki/Ernst_Mach|/wiki/Andreas_von...|\n",
      "|http://www.wikida...|           /wiki/Andrzej_Sch...|    http://www.wikida...|                 /wiki/Henryk_Iwaniec|/wiki/Andrzej_Sch...|http://dbpedia.or...| /wiki/Andrzej_Sch...|   http://dbpedia.or...|       /wiki/Henryk_Iwaniec|/wiki/Andrzej_Sch...|\n",
      "|http://www.wikida...|           /wiki/Bernard_de_Wit|    http://www.wikida...|                  /wiki/Erik_Verlinde|/wiki/Bernard_de_...|http://dbpedia.or...| /wiki/Bernard_de_Wit|   http://dbpedia.or...|        /wiki/Erik_Verlinde|/wiki/Bernard_de_...|\n",
      "|http://www.wikida...|           /wiki/Albert_Pott...|    http://www.wikida...|                 /wiki/Isidor_Isaa...|/wiki/Albert_Pott...|http://dbpedia.or...| /wiki/Albert_Pott...|   http://dbpedia.or...|       /wiki/Isidor_Isaa...|/wiki/Albert_Pott...|\n",
      "|http://www.wikida...|           /wiki/Alexander_B...|    http://www.wikida...|                 /wiki/Ilya_Piatet...|/wiki/Alexander_B...|http://dbpedia.or...| /wiki/Alexander_B...|   http://dbpedia.or...|       /wiki/Ilya_Piatet...|/wiki/Alexander_B...|\n",
      "|http://www.wikida...|                /wiki/Ali_Javan|    http://www.wikida...|                 /wiki/Richard_M._...|/wiki/Ali_Javan/w...|http://dbpedia.or...|      /wiki/Ali_Javan|   http://dbpedia.or...|       /wiki/Richard_M._...|/wiki/Ali_Javan/w...|\n",
      "|http://www.wikida...|            /wiki/Andrew_Casson|    http://www.wikida...|                 /wiki/Danny_Calegari|/wiki/Andrew_Cass...|http://dbpedia.or...|  /wiki/Andrew_Casson|   http://dbpedia.or...|       /wiki/Danny_Calegari|/wiki/Andrew_Cass...|\n",
      "|http://www.wikida...|           /wiki/Carl_Ludwig...|    http://www.wikida...|                 /wiki/Christian_P...|/wiki/Carl_Ludwig...|http://dbpedia.or...| /wiki/Carl_Ludwig...|   http://dbpedia.or...|       /wiki/Christian_P...|/wiki/Carl_Ludwig...|\n",
      "|http://www.wikida...|            /wiki/Adrien_Douady|    http://www.wikida...|                    /wiki/Xavier_Buff|/wiki/Adrien_Doua...|http://dbpedia.or...|  /wiki/Adrien_Douady|   http://dbpedia.or...|          /wiki/Xavier_Buff|/wiki/Adrien_Doua...|\n",
      "|http://www.wikida...|           /wiki/Alan_B._Tayler|    http://www.wikida...|                  /wiki/John_Ockendon|/wiki/Alan_B._Tay...|http://dbpedia.or...| /wiki/Alan_B._Tayler|   http://dbpedia.or...|        /wiki/John_Ockendon|/wiki/Alan_B._Tay...|\n",
      "|http://www.wikida...|           /wiki/Albert_Shir...|    http://www.wikida...|                 /wiki/Dmitry_Kramkov|/wiki/Albert_Shir...|http://dbpedia.or...| /wiki/Albert_Shir...|   http://dbpedia.or...|       /wiki/Dmitry_Kramkov|/wiki/Albert_Shir...|\n",
      "|http://www.wikida...|           /wiki/Adriano_Garsia|    http://www.wikida...|                    /wiki/Sara_Billey|/wiki/Adriano_Gar...|http://dbpedia.or...| /wiki/Adriano_Garsia|   http://dbpedia.or...|          /wiki/Sara_Billey|/wiki/Adriano_Gar...|\n",
      "|http://www.wikida...|            /wiki/Andrey_Markov|    http://www.wikida...|                 /wiki/Jacob_Tamarkin|/wiki/Andrey_Mark...|http://dbpedia.or...|  /wiki/Andrey_Markov|   http://dbpedia.or...|       /wiki/Jacob_Tamarkin|/wiki/Andrey_Mark...|\n",
      "|http://www.wikida...|           /wiki/Alan_J._Hof...|    http://www.wikida...|                 /wiki/Lennox_Supe...|/wiki/Alan_J._Hof...|http://dbpedia.or...| /wiki/Alan_J._Hof...|   http://dbpedia.or...|       /wiki/Lennox_Supe...|/wiki/Alan_J._Hof...|\n",
      "|http://www.wikida...|             /wiki/Andrew_Wiles|    http://www.wikida...|                 /wiki/Ehud_de_Shalit|/wiki/Andrew_Wile...|http://dbpedia.or...|   /wiki/Andrew_Wiles|   http://dbpedia.or...|       /wiki/Ehud_de_Shalit|/wiki/Andrew_Wile...|\n",
      "|http://www.wikida...|           /wiki/Antoni_Zygmund|    http://www.wikida...|                 /wiki/Elias_M._Stein|/wiki/Antoni_Zygm...|http://dbpedia.or...| /wiki/Antoni_Zygmund|   http://dbpedia.or...|       /wiki/Elias_M._Stein|/wiki/Antoni_Zygm...|\n",
      "|http://www.wikida...|           /wiki/Alex_F._T._...|    http://www.wikida...|                   /wiki/Colm_Mulcahy|/wiki/Alex_F._T._...|http://dbpedia.or...| /wiki/Alex_F._T._...|   http://dbpedia.or...|         /wiki/Colm_Mulcahy|/wiki/Alex_F._T._...|\n",
      "|http://www.wikida...|           /wiki/Alexandre_C...|    http://www.wikida...|                  /wiki/James_Sethian|/wiki/Alexandre_C...|http://dbpedia.or...| /wiki/Alexandre_C...|   http://dbpedia.or...|        /wiki/James_Sethian|/wiki/Alexandre_C...|\n",
      "|http://www.wikida...|           /wiki/Andrew_M._G...|    http://www.wikida...|                    /wiki/James_Eells|/wiki/Andrew_M._G...|http://dbpedia.or...| /wiki/Andrew_M._G...|   http://dbpedia.or...|          /wiki/James_Eells|/wiki/Andrew_M._G...|\n",
      "|http://www.wikida...|           /wiki/Andrey_Kolm...|    http://www.wikida...|                   /wiki/Leonid_Levin|/wiki/Andrey_Kolm...|http://dbpedia.or...| /wiki/Andrey_Kolm...|   http://dbpedia.or...|         /wiki/Leonid_Levin|/wiki/Andrey_Kolm...|\n",
      "+--------------------+-------------------------------+------------------------+-------------------------------------+--------------------+--------------------+---------------------+-----------------------+---------------------------+--------------------+\n"
     ]
    }
   ],
   "source": [
    "print(\"Missing in DBPedia: \"+str(combined_df.filter(col(\"dbpedia_fk\").isNull()).count()))\n",
    "print(\"Missing in WikiData : \"+str(combined_df.filter(col(\"wikidata_fk\").isNull()).count()))\n",
    "print(\"Consistent Data: \"+str(combined_df.filter(col(\"dbpedia_fk\").isNotNull() & col(\"wikidata_fk\").isNotNull()).count()))\n",
    "consistant_df.show()"
   ],
   "metadata": {
    "collapsed": false
   },
   "id": "76258dd431f6c544",
   "execution_count": 16
  },
  {
   "cell_type": "markdown",
   "source": [
    "4. **Generating Prompts**:"
   ],
   "metadata": {
    "collapsed": false
   },
   "id": "5cb087ae17933e25"
  },
  {
   "cell_type": "code",
   "outputs": [
    {
     "name": "stderr",
     "output_type": "stream",
     "text": [
      "                                                                                \r"
     ]
    }
   ],
   "source": [
    "consistant_data_prompt = prompt_generator(consistant_df)  \n",
    "inconsistant_dbpedia_prompt = prompt_generator(inconsistent_dbpedia_df)"
   ],
   "metadata": {
    "collapsed": false,
    "ExecuteTime": {
     "end_time": "2024-07-07T23:03:19.643498Z",
     "start_time": "2024-07-07T23:03:11.194953Z"
    }
   },
   "id": "b840e21c1625e6b1",
   "execution_count": 17
  },
  {
   "cell_type": "code",
   "outputs": [],
   "source": [
    "print(consistant_data_prompt)\n",
    "print(inconsistant_dbpedia_prompt)"
   ],
   "metadata": {
    "collapsed": false
   },
   "id": "40b5fdecd37c1833",
   "execution_count": null
  },
  {
   "cell_type": "markdown",
   "source": [
    "#### Prompt Execution and Analysis\n",
    "\n",
    "\n",
    "**GPT 4o** Results for Consistent Data: \n",
    "\n",
    " https://chatgpt.com/share/70343e5e-557a-4af5-8fcf-ae07a7fcadb7\n",
    " \n",
    "\n",
    "\n",
    "\n",
    "\n",
    "**Gemini 1.5 Pro** Results for Consistent Data: \n",
    "\n",
    " https://aistudio.google.com/app/prompts?state=%7B%22ids%22:%5B%221ortkXnziU0rDDOEucLrHqWlinFRFKYK-%22%5D,%22action%22:%22open%22,%22userId%22:%22102353347198161437106%22,%22resourceKeys%22:%7B%7D%7D&usp=sharing\n"
   ],
   "metadata": {
    "collapsed": false
   },
   "id": "23d98f85ce339460"
  }
 ],
 "metadata": {
  "kernelspec": {
   "display_name": "Python 3",
   "language": "python",
   "name": "python3"
  },
  "language_info": {
   "codemirror_mode": {
    "name": "ipython",
    "version": 2
   },
   "file_extension": ".py",
   "mimetype": "text/x-python",
   "name": "python",
   "nbconvert_exporter": "python",
   "pygments_lexer": "ipython2",
   "version": "2.7.6"
  }
 },
 "nbformat": 4,
 "nbformat_minor": 5
}
